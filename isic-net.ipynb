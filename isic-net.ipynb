{
 "cells": [
  {
   "cell_type": "markdown",
   "metadata": {},
   "source": [
    "### ISIC-Net (ResNet50) — HAM10000 + BCN20000\n",
    "- **Goal**: Binary dermoscopic image classification with a fine-tuned ResNet50.\n",
    "- **Datasets**: HAM10000 and BCN20000 combined, with metadata features (sex, age, anatomical site).\n",
    "- **Backbone**: ImageNet-pretrained ResNet50; custom head + metadata MLP.\n",
    "- **Result (test)**: **Accuracy 88.1%**. See the classification report cell for precision/recall/F1 and the confusion matrix cell for error patterns.\n",
    "- **How to use**: Run cells sequentially to prepare data, train, evaluate, and save weights."
   ]
  },
  {
   "cell_type": "markdown",
   "metadata": {},
   "source": [
    "### Setup and dependencies\n",
    "Imports core libraries (PyTorch, TorchVision, NumPy, Pandas, etc.), configures deterministic behavior for reproducibility, and silences non-critical warnings."
   ]
  },
  {
   "cell_type": "markdown",
   "metadata": {},
   "source": [
    "### Data paths\n",
    "Configure dataset base directories for HAM10000 and BCN20000. Update paths if running outside Kaggle."
   ]
  },
  {
   "cell_type": "code",
   "execution_count": 1,
   "metadata": {
    "execution": {
     "iopub.execute_input": "2025-08-12T15:00:12.226699Z",
     "iopub.status.busy": "2025-08-12T15:00:12.226123Z",
     "iopub.status.idle": "2025-08-12T15:00:23.476238Z",
     "shell.execute_reply": "2025-08-12T15:00:23.475592Z",
     "shell.execute_reply.started": "2025-08-12T15:00:12.226672Z"
    },
    "id": "QfLfCneoZvw6",
    "trusted": true
   },
   "outputs": [],
   "source": [
    "import os\n",
    "import random\n",
    "from pathlib import Path\n",
    "from typing import Any, List, Sequence, Tuple\n",
    "\n",
    "import cv2\n",
    "import numpy as np\n",
    "import torch\n",
    "from PIL import Image\n",
    "from torch.utils.data import DataLoader, Dataset\n",
    "from torchvision import models, transforms\n",
    "from collections import defaultdict, Counter\n",
    "from dataclasses import dataclass\n",
    "import pandas as pd\n",
    "from tqdm import tqdm\n",
    "\n",
    "import warnings\n",
    "\n",
    "warnings.filterwarnings(\"ignore\")"
   ]
  },
  {
   "cell_type": "markdown",
   "metadata": {},
   "source": [
    "### Data schema and label mappings\n",
    "Defines `ISICImage` data class and mappings for sex, diagnosis (binary target), and anatomical site. These mappings are used both for dataset construction and metadata normalization."
   ]
  },
  {
   "cell_type": "code",
   "execution_count": 2,
   "metadata": {
    "colab": {
     "base_uri": "https://localhost:8080/"
    },
    "execution": {
     "iopub.execute_input": "2025-08-12T15:00:23.478044Z",
     "iopub.status.busy": "2025-08-12T15:00:23.477694Z",
     "iopub.status.idle": "2025-08-12T15:00:23.481867Z",
     "shell.execute_reply": "2025-08-12T15:00:23.481189Z",
     "shell.execute_reply.started": "2025-08-12T15:00:23.478024Z"
    },
    "id": "dsQ_fJYNapGz",
    "outputId": "716c5bb4-5b0d-4fdd-df67-5c972c516f70",
    "trusted": true
   },
   "outputs": [],
   "source": [
    "base_dir = Path(\"/kaggle/input/\")\n",
    "ham_dir = base_dir / \"ham10000\" / \"ISIC-images\"\n",
    "bcn_dir = base_dir / \"bcn20000\""
   ]
  },
  {
   "cell_type": "markdown",
   "metadata": {},
   "source": [
    "### Metadata loading and filtering\n",
    "- Concatenates HAM10000 + BCN20000 metadata, de-duplicates by `isic_id`.\n",
    "- Filters to usable records and constructs `ISICImage` objects."
   ]
  },
  {
   "cell_type": "code",
   "execution_count": 3,
   "metadata": {
    "execution": {
     "iopub.execute_input": "2025-08-12T15:00:23.483006Z",
     "iopub.status.busy": "2025-08-12T15:00:23.482752Z",
     "iopub.status.idle": "2025-08-12T15:00:23.596792Z",
     "shell.execute_reply": "2025-08-12T15:00:23.596034Z",
     "shell.execute_reply.started": "2025-08-12T15:00:23.482989Z"
    },
    "id": "JYofYBhdCRgt",
    "trusted": true
   },
   "outputs": [],
   "source": [
    "device = torch.device('cuda' if torch.cuda.is_available() else 'cpu')\n",
    "\n",
    "os.environ[\"PYTHONHASHSEED\"] = \"42\"\n",
    "os.environ[\"CUBLAS_WORKSPACE_CONFIG\"] = \":4096:8\"\n",
    "\n",
    "SEED = 42\n",
    "random.seed(SEED)\n",
    "np.random.seed(SEED)\n",
    "torch.manual_seed(SEED)\n",
    "torch.cuda.manual_seed_all(SEED)\n",
    "\n",
    "torch.use_deterministic_algorithms(True)\n",
    "torch.backends.cudnn.deterministic = True\n",
    "torch.backends.cudnn.benchmark = False"
   ]
  },
  {
   "cell_type": "markdown",
   "metadata": {},
   "source": [
    "### Dataset and transforms\n",
    "- Image pipeline: resize-with-pad to 600x450, normalization with ImageNet stats, basic augmentation on train.\n",
    "- Metadata features: sex, age, anatomical site → normalized per-split.\n",
    "- `__getitem__`: returns `(image_tensor, meta_tensor, label)`."
   ]
  },
  {
   "cell_type": "code",
   "execution_count": 4,
   "metadata": {
    "execution": {
     "iopub.execute_input": "2025-08-12T15:00:23.598343Z",
     "iopub.status.busy": "2025-08-12T15:00:23.598091Z",
     "iopub.status.idle": "2025-08-12T15:00:23.604133Z",
     "shell.execute_reply": "2025-08-12T15:00:23.603414Z",
     "shell.execute_reply.started": "2025-08-12T15:00:23.598325Z"
    },
    "id": "QDCXKNSLmDhC",
    "trusted": true
   },
   "outputs": [],
   "source": [
    "@dataclass(frozen=True)\n",
    "class ISICImage:\n",
    "    path: Path\n",
    "    identifier: str\n",
    "    age: str\n",
    "    sex: str\n",
    "    diagnosis: str\n",
    "    anatom_site: str\n",
    "\n",
    "SEX_MAPPING = {\n",
    "    \"male\": 0,\n",
    "    \"female\": 1\n",
    "}\n",
    "\n",
    "DIAGNOSIS_MAPPING = {\n",
    "    \"Malignant\": 0,\n",
    "    \"Benign\": 1\n",
    "}\n",
    "\n",
    "ANATOM_SITE_MAPPING = {\n",
    "    \"anterior torso\": 0,\n",
    "    \"posterior torso\": 1,\n",
    "    \"head/neck\": 2,\n",
    "    \"upper extremity\": 3,\n",
    "    \"lower extremity\": 4,\n",
    "    \"palms/soles\": 5,\n",
    "    \"oral/genital\": 6\n",
    "}"
   ]
  },
  {
   "cell_type": "code",
   "execution_count": 5,
   "metadata": {
    "execution": {
     "iopub.execute_input": "2025-08-12T15:00:25.667028Z",
     "iopub.status.busy": "2025-08-12T15:00:25.666492Z",
     "iopub.status.idle": "2025-08-12T15:00:25.671027Z",
     "shell.execute_reply": "2025-08-12T15:00:25.670475Z",
     "shell.execute_reply.started": "2025-08-12T15:00:25.667005Z"
    },
    "trusted": true
   },
   "outputs": [],
   "source": [
    "def concat_metadata(paths: List[Path]) -> pd.DataFrame:\n",
    "    data = pd.DataFrame()\n",
    "    for path in paths:\n",
    "        metadata = pd.read_csv(path / \"metadata.csv\")\n",
    "        metadata[\"base_path\"] = path.as_posix()\n",
    "        data = pd.concat([data, metadata])\n",
    "    data = data.drop_duplicates([\"isic_id\"])\n",
    "    return data"
   ]
  },
  {
   "cell_type": "markdown",
   "metadata": {},
   "source": [
    "### Train/val/test split and loaders\n",
    "- Stratified split on the binary target.\n",
    "- DataLoaders with deterministic shuffling for train, smaller workers for val/test."
   ]
  },
  {
   "cell_type": "code",
   "execution_count": 6,
   "metadata": {
    "execution": {
     "iopub.execute_input": "2025-08-12T15:00:26.184621Z",
     "iopub.status.busy": "2025-08-12T15:00:26.183918Z",
     "iopub.status.idle": "2025-08-12T15:00:26.189676Z",
     "shell.execute_reply": "2025-08-12T15:00:26.189037Z",
     "shell.execute_reply.started": "2025-08-12T15:00:26.184595Z"
    },
    "id": "HfCBogpYZxLV",
    "trusted": true
   },
   "outputs": [],
   "source": [
    "def load_metadata(metadata: pd.DataFrame) -> List[ISICImage]:\n",
    "    metadata = metadata[pd.notnull(metadata[\"age_approx\"])]\n",
    "    metadata = metadata[pd.notnull(metadata[\"sex\"])]\n",
    "    metadata = metadata[pd.notnull(metadata[\"anatom_site_general\"])]\n",
    "    metadata = metadata[metadata[\"diagnosis_1\"].isin([\"Malignant\", \"Benign\"])]\n",
    "    images: List[ISICImage] = []\n",
    "    for idx, row in metadata.iterrows():\n",
    "        images.append(\n",
    "            ISICImage(\n",
    "                path=Path(row[\"base_path\"]),\n",
    "                identifier=row[\"isic_id\"],\n",
    "                age=row[\"age_approx\"],\n",
    "                sex=row[\"sex\"],\n",
    "                diagnosis=row[\"diagnosis_1\"],\n",
    "                anatom_site=row[\"anatom_site_general\"]\n",
    "            )\n",
    "        )\n",
    "    return images"
   ]
  },
  {
   "cell_type": "markdown",
   "metadata": {},
   "source": [
    "### Backbone initialization\n",
    "- Load ImageNet-pretrained ResNet50.\n",
    "- Freeze all parameters initially and set BatchNorm layers to eval for stable features."
   ]
  },
  {
   "cell_type": "code",
   "execution_count": 7,
   "metadata": {
    "execution": {
     "iopub.execute_input": "2025-08-12T15:00:29.346306Z",
     "iopub.status.busy": "2025-08-12T15:00:29.346043Z",
     "iopub.status.idle": "2025-08-12T15:00:29.352880Z",
     "shell.execute_reply": "2025-08-12T15:00:29.352250Z",
     "shell.execute_reply.started": "2025-08-12T15:00:29.346286Z"
    },
    "id": "na4CIQ_nsT42",
    "trusted": true
   },
   "outputs": [],
   "source": [
    "def print_diagnosis_counts_by_sex(images: List[ISICImage]) -> None:\n",
    "    counts_by_sex: dict[int, Counter[int]] = defaultdict(Counter)\n",
    "    for img in images:\n",
    "        counts_by_sex[img.sex][img.diagnosis] += 1\n",
    "\n",
    "    all_diagnoses = sorted({d for ctr in counts_by_sex.values() for d in ctr})\n",
    "    all_sexes = sorted(counts_by_sex)\n",
    "\n",
    "    diag_col = \"Diagnosis\"\n",
    "    sex_cols = [f\"Sex {s}\" for s in all_sexes]\n",
    "\n",
    "    w_diag = max(len(diag_col), *(len(str(d)) for d in all_diagnoses))\n",
    "    w_sex = {\n",
    "        s: max(len(f\"Sex {s}\"), *(len(str(counts_by_sex[s][d])) for d in all_diagnoses))\n",
    "        for s in all_sexes\n",
    "    }\n",
    "\n",
    "    header = f\"{diag_col:<{w_diag}} \" + \" \".join(\n",
    "        f\"| {name:>{w_sex[s]}}\" for s, name in zip(all_sexes, sex_cols)\n",
    "    )\n",
    "    sep = \"-\" * len(header)\n",
    "    print(header)\n",
    "    print(sep)\n",
    "\n",
    "    for d in all_diagnoses:\n",
    "        row = f\"{str(d):<{w_diag}} \" + \" \".join(\n",
    "            f\"| {counts_by_sex[s][d]:>{w_sex[s]}}\" for s in all_sexes\n",
    "        )\n",
    "        print(row)"
   ]
  },
  {
   "cell_type": "code",
   "execution_count": 8,
   "metadata": {
    "execution": {
     "iopub.execute_input": "2025-08-12T15:00:30.951764Z",
     "iopub.status.busy": "2025-08-12T15:00:30.951039Z",
     "iopub.status.idle": "2025-08-12T15:00:30.957040Z",
     "shell.execute_reply": "2025-08-12T15:00:30.956247Z",
     "shell.execute_reply.started": "2025-08-12T15:00:30.951737Z"
    },
    "trusted": true
   },
   "outputs": [],
   "source": [
    "class ResizeWithPad:\n",
    "    def __init__(self, target_size: Tuple[int, int], fill: int = 0) -> None:\n",
    "        self.target_size = target_size  # (height, width)\n",
    "        self.fill = fill\n",
    "\n",
    "    def __call__(self, img: Image.Image) -> Image.Image:\n",
    "        target_h, target_w = self.target_size\n",
    "        orig_w, orig_h = img.size\n",
    "\n",
    "        # Scale by shorter side\n",
    "        scale = min(target_w / orig_w, target_h / orig_h)\n",
    "        new_w = int(orig_w * scale)\n",
    "        new_h = int(orig_h * scale)\n",
    "        img = img.resize((new_w, new_h), Image.BICUBIC)\n",
    "\n",
    "        # Compute padding\n",
    "        pad_w = target_w - new_w\n",
    "        pad_h = target_h - new_h\n",
    "        pad_left = pad_w // 2\n",
    "        pad_right = pad_w - pad_left\n",
    "        pad_top = pad_h // 2\n",
    "        pad_bottom = pad_h - pad_top\n",
    "\n",
    "        # Pad\n",
    "        img = transforms.functional.pad(img, (pad_left, pad_top, pad_right, pad_bottom), fill=self.fill)\n",
    "        return img"
   ]
  },
  {
   "cell_type": "markdown",
   "metadata": {},
   "source": [
    "### Model head with metadata\n",
    "- Replace `resnet50.fc` with identity to extract features.\n",
    "- `meta_net`: small MLP over 3 meta features (sex, age, site).\n",
    "- `classifier`: concatenates image + meta features → 2-class logits.\n",
    "- `ISICNet`: wrapper module combining components."
   ]
  },
  {
   "cell_type": "code",
   "execution_count": 9,
   "metadata": {
    "execution": {
     "iopub.execute_input": "2025-08-12T15:00:31.131458Z",
     "iopub.status.busy": "2025-08-12T15:00:31.131214Z",
     "iopub.status.idle": "2025-08-12T15:00:31.136026Z",
     "shell.execute_reply": "2025-08-12T15:00:31.135330Z",
     "shell.execute_reply.started": "2025-08-12T15:00:31.131440Z"
    },
    "trusted": true
   },
   "outputs": [],
   "source": [
    "def compute_mean_std(values: List[Any]) -> Tuple[float, float]:\n",
    "    arr = np.array(values, dtype=np.float32)\n",
    "    return float(arr.mean()), float(arr.std())\n",
    "\n",
    "def normalize_meta(values: Sequence[float], means: Sequence[float], stds: Sequence[float]) -> torch.Tensor:\n",
    "    normed = [(v - m) / s for v, m, s in zip(values, means, stds)]\n",
    "    return torch.tensor(normed, dtype=torch.float32)"
   ]
  },
  {
   "cell_type": "markdown",
   "metadata": {},
   "source": [
    "### Evaluation helper\n",
    "Batched evaluation returning loss, accuracy, predictions and labels. Used for val/test."
   ]
  },
  {
   "cell_type": "code",
   "execution_count": 10,
   "metadata": {
    "execution": {
     "iopub.execute_input": "2025-08-12T15:00:32.317530Z",
     "iopub.status.busy": "2025-08-12T15:00:32.317227Z",
     "iopub.status.idle": "2025-08-12T15:00:32.326259Z",
     "shell.execute_reply": "2025-08-12T15:00:32.325520Z",
     "shell.execute_reply.started": "2025-08-12T15:00:32.317508Z"
    },
    "id": "JTXP9g1biek4",
    "trusted": true
   },
   "outputs": [],
   "source": [
    "class ISICImageDiagnosisDataset(Dataset):\n",
    "    def __init__(self, images: List[ISICImage], train: bool) -> None:\n",
    "        self.images = images\n",
    "        self.mean = [0.485, 0.456, 0.406]\n",
    "        self.std = [0.229, 0.224, 0.225]\n",
    "\n",
    "        ages = [img.age for img in images]\n",
    "        self.mean_age, self.std_age = compute_mean_std(ages)\n",
    "        \n",
    "        sexes = [SEX_MAPPING[img.sex] for img in images]\n",
    "        self.mean_sex, self.std_sex = compute_mean_std(sexes)\n",
    "\n",
    "        sites = [ANATOM_SITE_MAPPING[img.anatom_site] for img in images]\n",
    "        self.mean_site, self.std_site = compute_mean_std(sites)\n",
    "\n",
    "        if not train:\n",
    "            self.transforms = transforms.Compose([\n",
    "                transforms.ToPILImage(),\n",
    "                ResizeWithPad((600, 450), fill=(0, 0, 0)),\n",
    "                transforms.ToTensor(),\n",
    "                transforms.Normalize(self.mean, self.std),\n",
    "            ])\n",
    "        else:\n",
    "            self.transforms = transforms.Compose([\n",
    "                transforms.ToPILImage(),\n",
    "                ResizeWithPad((600, 450), fill=(0, 0, 0)),\n",
    "                transforms.RandomHorizontalFlip(),\n",
    "                transforms.RandomRotation(15),\n",
    "                transforms.ToTensor(),\n",
    "                transforms.Normalize(self.mean, self.std)\n",
    "            ])\n",
    "\n",
    "    def __len__(self) -> int:\n",
    "        return len(self.images)\n",
    "\n",
    "    def __getitem__(self, index: int) -> Tuple[torch.Tensor, torch.Tensor, int]:\n",
    "        image = self.images[index]\n",
    "        image_path = image.path / f\"{image.identifier}.jpg\"\n",
    "        img = cv2.imread(image_path, cv2.IMREAD_COLOR)\n",
    "        img = cv2.cvtColor(img, cv2.COLOR_BGR2RGB)\n",
    "        img = self.transforms(img)\n",
    "\n",
    "        sex = SEX_MAPPING[image.sex]\n",
    "        diagnosis = DIAGNOSIS_MAPPING[image.diagnosis]\n",
    "        site = ANATOM_SITE_MAPPING[image.anatom_site]\n",
    "        age = float(image.age)\n",
    "    \n",
    "        meta = normalize_meta(\n",
    "            values=[sex, age, site],\n",
    "            means=[self.mean_sex, self.mean_age, self.mean_site],\n",
    "            stds=[self.std_sex, self.std_age, self.std_site]\n",
    "        )\n",
    "        return img, meta, diagnosis"
   ]
  },
  {
   "cell_type": "markdown",
   "metadata": {},
   "source": [
    "### Class imbalance handling\n",
    "Compute per-class weights from training distribution and pass to `CrossEntropyLoss`."
   ]
  },
  {
   "cell_type": "code",
   "execution_count": 11,
   "metadata": {
    "colab": {
     "base_uri": "https://localhost:8080/"
    },
    "execution": {
     "iopub.execute_input": "2025-08-12T15:00:37.167531Z",
     "iopub.status.busy": "2025-08-12T15:00:37.166885Z",
     "iopub.status.idle": "2025-08-12T15:00:38.761537Z",
     "shell.execute_reply": "2025-08-12T15:00:38.760806Z",
     "shell.execute_reply.started": "2025-08-12T15:00:37.167507Z"
    },
    "id": "JLigdi-UsM2K",
    "outputId": "26d4f9a6-e6fe-415e-ae84-9bdeed7ac73f",
    "trusted": true
   },
   "outputs": [
    {
     "name": "stdout",
     "output_type": "stream",
     "text": [
      "Diagnosis | Sex female | Sex male\n",
      "---------------------------------\n",
      "Benign    |       7521 |     7484\n",
      "Malignant |       4615 |     6097\n"
     ]
    }
   ],
   "source": [
    "metadata = concat_metadata(paths=[bcn_dir, ham_dir])\n",
    "images = load_metadata(metadata=metadata)\n",
    "print_diagnosis_counts_by_sex(images=images)"
   ]
  },
  {
   "cell_type": "markdown",
   "metadata": {},
   "source": [
    "### Training strategy\n",
    "- Stage 1: train only metadata MLP + classifier (frozen backbone) with OneCycleLR.\n",
    "- Stage 2: unfreeze `layer4` and continue fine-tuning with reduced LRs.\n",
    "- Early stopping on best validation loss."
   ]
  },
  {
   "cell_type": "code",
   "execution_count": 12,
   "metadata": {
    "execution": {
     "iopub.execute_input": "2025-08-12T15:00:40.129231Z",
     "iopub.status.busy": "2025-08-12T15:00:40.128937Z",
     "iopub.status.idle": "2025-08-12T15:00:40.948545Z",
     "shell.execute_reply": "2025-08-12T15:00:40.947665Z",
     "shell.execute_reply.started": "2025-08-12T15:00:40.129208Z"
    },
    "id": "FuZOK8yEZxOb",
    "trusted": true
   },
   "outputs": [],
   "source": [
    "from sklearn.model_selection import train_test_split\n",
    "\n",
    "labels = [DIAGNOSIS_MAPPING[img.diagnosis] for img in images]\n",
    "\n",
    "train_images, temp_images, _, temp_labels = train_test_split(\n",
    "    images, labels, test_size=0.3, stratify=labels, random_state=SEED\n",
    ")\n",
    "\n",
    "val_images, test_images, _, _ = train_test_split(\n",
    "    temp_images, temp_labels, test_size=0.5, stratify=temp_labels, random_state=SEED\n",
    ")"
   ]
  },
  {
   "cell_type": "code",
   "execution_count": 13,
   "metadata": {
    "execution": {
     "iopub.execute_input": "2025-08-12T15:00:53.872677Z",
     "iopub.status.busy": "2025-08-12T15:00:53.872277Z",
     "iopub.status.idle": "2025-08-12T15:00:53.900063Z",
     "shell.execute_reply": "2025-08-12T15:00:53.899352Z",
     "shell.execute_reply.started": "2025-08-12T15:00:53.872656Z"
    },
    "id": "tzcp8OWrhe2b",
    "trusted": true
   },
   "outputs": [],
   "source": [
    "train = ISICImageDiagnosisDataset(train_images, train=True)\n",
    "test = ISICImageDiagnosisDataset(test_images, train=False)\n",
    "val = ISICImageDiagnosisDataset(val_images, train=False)\n",
    "\n",
    "g = torch.Generator()\n",
    "g.manual_seed(SEED)\n",
    "\n",
    "trainloader = DataLoader(train, shuffle=True, batch_size=64, generator=g, num_workers=6)\n",
    "testloader = DataLoader(test, shuffle=False, batch_size=32, num_workers=2)\n",
    "valloader = DataLoader(val, shuffle=False, batch_size=32, num_workers=2)"
   ]
  },
  {
   "cell_type": "code",
   "execution_count": 14,
   "metadata": {
    "execution": {
     "iopub.execute_input": "2025-08-12T15:00:55.776398Z",
     "iopub.status.busy": "2025-08-12T15:00:55.776038Z",
     "iopub.status.idle": "2025-08-12T15:00:56.932366Z",
     "shell.execute_reply": "2025-08-12T15:00:56.931712Z",
     "shell.execute_reply.started": "2025-08-12T15:00:55.776373Z"
    },
    "id": "yY0uqkIJZxWD",
    "trusted": true
   },
   "outputs": [
    {
     "name": "stderr",
     "output_type": "stream",
     "text": [
      "Downloading: \"https://download.pytorch.org/models/resnet50-11ad3fa6.pth\" to /root/.cache/torch/hub/checkpoints/resnet50-11ad3fa6.pth\n",
      "100%|██████████| 97.8M/97.8M [00:00<00:00, 176MB/s] \n"
     ]
    }
   ],
   "source": [
    "from torchvision.models import ResNet50_Weights\n",
    "resnet50 = models.resnet50(weights=ResNet50_Weights.DEFAULT)"
   ]
  },
  {
   "cell_type": "code",
   "execution_count": 15,
   "metadata": {
    "execution": {
     "iopub.execute_input": "2025-08-12T15:00:56.933646Z",
     "iopub.status.busy": "2025-08-12T15:00:56.933399Z",
     "iopub.status.idle": "2025-08-12T15:00:56.937799Z",
     "shell.execute_reply": "2025-08-12T15:00:56.936887Z",
     "shell.execute_reply.started": "2025-08-12T15:00:56.933628Z"
    },
    "id": "mqSOKI4Gwf7M",
    "trusted": true
   },
   "outputs": [],
   "source": [
    "for name, param in resnet50.named_parameters():\n",
    "    param.requires_grad = False"
   ]
  },
  {
   "cell_type": "markdown",
   "metadata": {},
   "source": [
    "### Test evaluation\n",
    "Reports final test loss and accuracy. See the next cells for confusion matrix and scikit-learn classification report."
   ]
  },
  {
   "cell_type": "code",
   "execution_count": 16,
   "metadata": {
    "execution": {
     "iopub.execute_input": "2025-08-12T15:00:57.398539Z",
     "iopub.status.busy": "2025-08-12T15:00:57.398260Z",
     "iopub.status.idle": "2025-08-12T15:00:57.402621Z",
     "shell.execute_reply": "2025-08-12T15:00:57.402055Z",
     "shell.execute_reply.started": "2025-08-12T15:00:57.398517Z"
    },
    "id": "scEwsqmaDnmv",
    "trusted": true
   },
   "outputs": [],
   "source": [
    "for name, module in resnet50.named_modules():\n",
    "    if isinstance(module, torch.nn.BatchNorm2d):\n",
    "        module.eval()"
   ]
  },
  {
   "cell_type": "code",
   "execution_count": null,
   "metadata": {
    "execution": {
     "iopub.execute_input": "2025-08-12T15:00:58.454891Z",
     "iopub.status.busy": "2025-08-12T15:00:58.454405Z",
     "iopub.status.idle": "2025-08-12T15:00:58.475584Z",
     "shell.execute_reply": "2025-08-12T15:00:58.474765Z",
     "shell.execute_reply.started": "2025-08-12T15:00:58.454868Z"
    },
    "id": "CRcn7kuKzCP3",
    "trusted": true
   },
   "outputs": [],
   "source": [
    "num_features = resnet50.fc.in_features\n",
    "resnet50.fc = torch.nn.Identity()\n",
    "\n",
    "meta_net = torch.nn.Sequential(\n",
    "    torch.nn.Linear(3, 16),\n",
    "    torch.nn.ReLU(),\n",
    "    torch.nn.Linear(16, 8),\n",
    "    torch.nn.ReLU()\n",
    ")\n",
    "\n",
    "classifier = torch.nn.Sequential(\n",
    "    torch.nn.Linear(num_features + 8, 1024),\n",
    "    torch.nn.ReLU(),\n",
    "    torch.nn.Dropout(0.4),\n",
    "    torch.nn.Linear(1024, 2)\n",
    ")\n",
    "\n",
    "class ISICNet(torch.nn.Module):\n",
    "    def __init__(self) -> None:\n",
    "        super().__init__()\n",
    "        self.resnet = resnet50\n",
    "        self.meta_net = meta_net\n",
    "        self.classifier = classifier\n",
    "\n",
    "    def forward(self, img: torch.Tensor, meta: torch.Tensor) -> torch.Tensor:\n",
    "        img_features = self.resnet(img)\n",
    "        meta_features = self.meta_net(meta)\n",
    "        x = torch.cat([img_features, meta_features], dim=1)\n",
    "        return self.classifier(x)"
   ]
  },
  {
   "cell_type": "code",
   "execution_count": 26,
   "metadata": {
    "execution": {
     "iopub.execute_input": "2025-08-12T20:40:18.273363Z",
     "iopub.status.busy": "2025-08-12T20:40:18.272494Z",
     "iopub.status.idle": "2025-08-12T20:40:18.279990Z",
     "shell.execute_reply": "2025-08-12T20:40:18.279269Z",
     "shell.execute_reply.started": "2025-08-12T20:40:18.273331Z"
    },
    "id": "c1UycLd0Q0WS",
    "trusted": true
   },
   "outputs": [],
   "source": [
    "from torchvision.models.resnet import ResNet\n",
    "from torch.nn import CrossEntropyLoss\n",
    "\n",
    "def evaluate(\n",
    "    model: ResNet,\n",
    "    loader: DataLoader,\n",
    "    criterion: CrossEntropyLoss\n",
    ") -> Tuple[int, int, List[np.ndarray], List[np.ndarray]]:\n",
    "    model.eval()\n",
    "    correct = total = 0\n",
    "    running_loss = 0.0\n",
    "\n",
    "    all_preds, all_labels = [], []\n",
    "\n",
    "    with torch.no_grad():\n",
    "        for (imgs, meta, labels) in tqdm(loader, desc=f\"Evaluation: \"):\n",
    "            imgs, meta, labels = imgs.to(device), meta.to(device), labels.to(device)\n",
    "\n",
    "            logits = model(imgs, meta)\n",
    "            loss = criterion(logits, labels)\n",
    "            preds = logits.argmax(dim=1)\n",
    "\n",
    "            correct += (preds == labels).sum().item()\n",
    "            total += labels.size(0)\n",
    "\n",
    "            running_loss += loss.item() * imgs.size(0)\n",
    "\n",
    "            all_preds.extend(preds.cpu().numpy())\n",
    "            all_labels.extend(labels.cpu().numpy())\n",
    "\n",
    "    eval_loss = running_loss / len(loader.dataset)\n",
    "    return eval_loss, correct / total, all_preds, all_labels"
   ]
  },
  {
   "cell_type": "markdown",
   "metadata": {},
   "source": [
    "### Confusion matrix\n",
    "Visualizes per-class errors on the test set."
   ]
  },
  {
   "cell_type": "code",
   "execution_count": 19,
   "metadata": {
    "execution": {
     "iopub.execute_input": "2025-08-12T15:01:01.052161Z",
     "iopub.status.busy": "2025-08-12T15:01:01.051632Z",
     "iopub.status.idle": "2025-08-12T15:01:01.301223Z",
     "shell.execute_reply": "2025-08-12T15:01:01.300347Z",
     "shell.execute_reply.started": "2025-08-12T15:01:01.052139Z"
    },
    "trusted": true
   },
   "outputs": [],
   "source": [
    "label_counts = Counter(DIAGNOSIS_MAPPING[image.diagnosis] for image in train_images)\n",
    "classes = len(label_counts)\n",
    "\n",
    "num_labels = sum(label_counts.values())\n",
    "label_weights = []\n",
    "for idx, (_, count) in enumerate(label_counts.items()):\n",
    "    weight = num_labels / (classes * count)\n",
    "    label_weights.append(weight)\n",
    "\n",
    "weights = torch.tensor(label_weights, dtype=torch.float32)\n",
    "weights = weights.to(device)"
   ]
  },
  {
   "cell_type": "markdown",
   "metadata": {},
   "source": [
    "### Classification report\n",
    "Full precision/recall/F1 by class and overall metrics."
   ]
  },
  {
   "cell_type": "code",
   "execution_count": null,
   "metadata": {
    "execution": {
     "iopub.execute_input": "2025-08-12T15:01:01.314002Z",
     "iopub.status.busy": "2025-08-12T15:01:01.313245Z",
     "iopub.status.idle": "2025-08-12T15:01:01.318975Z",
     "shell.execute_reply": "2025-08-12T15:01:01.318143Z",
     "shell.execute_reply.started": "2025-08-12T15:01:01.313976Z"
    },
    "trusted": true
   },
   "outputs": [],
   "source": [
    "def unfreeze_layers(model: ISICNet, layers: List[str]) -> None:\n",
    "    for name, param in model.resnet.named_parameters():\n",
    "        for layer in layers:\n",
    "            if name.startswith(layer):\n",
    "                param.requires_grad = True\n",
    "\n",
    "    for name, module in model.resnet.named_modules():\n",
    "        for layer in layers:\n",
    "            if name.startswith(layer) and isinstance(module, torch.nn.BatchNorm2d):\n",
    "                module.train()\n",
    "                for param in module.parameters():\n",
    "                    param.requires_grad = True"
   ]
  },
  {
   "cell_type": "code",
   "execution_count": null,
   "metadata": {
    "colab": {
     "base_uri": "https://localhost:8080/"
    },
    "collapsed": true,
    "execution": {
     "iopub.execute_input": "2025-08-12T15:01:02.398169Z",
     "iopub.status.busy": "2025-08-12T15:01:02.397744Z",
     "iopub.status.idle": "2025-08-12T20:03:25.258457Z",
     "shell.execute_reply": "2025-08-12T20:03:25.257614Z",
     "shell.execute_reply.started": "2025-08-12T15:01:02.398144Z"
    },
    "id": "ojyNNIgGahJ6",
    "jupyter": {
     "outputs_hidden": true
    },
    "outputId": "b1c4c6a3-a604-4d19-b6aa-b50e58dd4a0e",
    "trusted": true
   },
   "outputs": [
    {
     "name": "stderr",
     "output_type": "stream",
     "text": [
      "Epoch 1/100: 100%|██████████| 282/282 [06:38<00:00,  1.41s/it]\n",
      "Evaluation: 100%|██████████| 121/121 [01:27<00:00,  1.39it/s]\n"
     ]
    },
    {
     "name": "stdout",
     "output_type": "stream",
     "text": [
      "Epoch 1/100.. Train loss: 0.544.. Val loss: 0.509.. Accuracy: 0.756..\n"
     ]
    },
    {
     "name": "stderr",
     "output_type": "stream",
     "text": [
      "Epoch 2/100: 100%|██████████| 282/282 [06:21<00:00,  1.35s/it]\n",
      "Evaluation: 100%|██████████| 121/121 [01:11<00:00,  1.68it/s]\n"
     ]
    },
    {
     "name": "stdout",
     "output_type": "stream",
     "text": [
      "Epoch 2/100.. Train loss: 0.531.. Val loss: 0.485.. Accuracy: 0.764..\n"
     ]
    },
    {
     "name": "stderr",
     "output_type": "stream",
     "text": [
      "Epoch 3/100: 100%|██████████| 282/282 [06:22<00:00,  1.36s/it]\n",
      "Evaluation: 100%|██████████| 121/121 [01:12<00:00,  1.68it/s]\n"
     ]
    },
    {
     "name": "stdout",
     "output_type": "stream",
     "text": [
      "Epoch 3/100.. Train loss: 0.543.. Val loss: 0.522.. Accuracy: 0.748..\n"
     ]
    },
    {
     "name": "stderr",
     "output_type": "stream",
     "text": [
      "Epoch 4/100: 100%|██████████| 282/282 [06:21<00:00,  1.35s/it]\n",
      "Evaluation: 100%|██████████| 121/121 [01:12<00:00,  1.68it/s]\n"
     ]
    },
    {
     "name": "stdout",
     "output_type": "stream",
     "text": [
      "Epoch 4/100.. Train loss: 0.548.. Val loss: 0.510.. Accuracy: 0.751..\n"
     ]
    },
    {
     "name": "stderr",
     "output_type": "stream",
     "text": [
      "Epoch 5/100: 100%|██████████| 282/282 [06:22<00:00,  1.35s/it]\n",
      "Evaluation: 100%|██████████| 121/121 [01:11<00:00,  1.68it/s]\n"
     ]
    },
    {
     "name": "stdout",
     "output_type": "stream",
     "text": [
      "Epoch 5/100.. Train loss: 0.527.. Val loss: 0.513.. Accuracy: 0.741..\n"
     ]
    },
    {
     "name": "stderr",
     "output_type": "stream",
     "text": [
      "Epoch 6/100: 100%|██████████| 282/282 [06:21<00:00,  1.35s/it]\n",
      "Evaluation: 100%|██████████| 121/121 [01:11<00:00,  1.68it/s]\n"
     ]
    },
    {
     "name": "stdout",
     "output_type": "stream",
     "text": [
      "Epoch 6/100.. Train loss: 0.509.. Val loss: 0.459.. Accuracy: 0.771..\n"
     ]
    },
    {
     "name": "stderr",
     "output_type": "stream",
     "text": [
      "Epoch 7/100: 100%|██████████| 282/282 [06:21<00:00,  1.35s/it]\n",
      "Evaluation: 100%|██████████| 121/121 [01:11<00:00,  1.68it/s]\n"
     ]
    },
    {
     "name": "stdout",
     "output_type": "stream",
     "text": [
      "Epoch 7/100.. Train loss: 0.496.. Val loss: 0.452.. Accuracy: 0.763..\n"
     ]
    },
    {
     "name": "stderr",
     "output_type": "stream",
     "text": [
      "Epoch 8/100: 100%|██████████| 282/282 [06:22<00:00,  1.36s/it]\n",
      "Evaluation: 100%|██████████| 121/121 [01:11<00:00,  1.68it/s]\n"
     ]
    },
    {
     "name": "stdout",
     "output_type": "stream",
     "text": [
      "Epoch 8/100.. Train loss: 0.487.. Val loss: 0.453.. Accuracy: 0.780..\n"
     ]
    },
    {
     "name": "stderr",
     "output_type": "stream",
     "text": [
      "Epoch 9/100: 100%|██████████| 282/282 [06:22<00:00,  1.35s/it]\n",
      "Evaluation: 100%|██████████| 121/121 [01:11<00:00,  1.68it/s]\n"
     ]
    },
    {
     "name": "stdout",
     "output_type": "stream",
     "text": [
      "Epoch 9/100.. Train loss: 0.471.. Val loss: 0.450.. Accuracy: 0.779..\n"
     ]
    },
    {
     "name": "stderr",
     "output_type": "stream",
     "text": [
      "Epoch 10/100: 100%|██████████| 282/282 [06:22<00:00,  1.36s/it]\n",
      "Evaluation: 100%|██████████| 121/121 [01:11<00:00,  1.68it/s]\n"
     ]
    },
    {
     "name": "stdout",
     "output_type": "stream",
     "text": [
      "Epoch 10/100.. Train loss: 0.471.. Val loss: 0.450.. Accuracy: 0.780..\n"
     ]
    },
    {
     "name": "stderr",
     "output_type": "stream",
     "text": [
      "Epoch 11/100: 100%|██████████| 282/282 [08:27<00:00,  1.80s/it]\n",
      "Evaluation: 100%|██████████| 121/121 [01:12<00:00,  1.68it/s]\n"
     ]
    },
    {
     "name": "stdout",
     "output_type": "stream",
     "text": [
      "Epoch 11/100.. Train loss: 0.467.. Val loss: 0.438.. Accuracy: 0.795..\n"
     ]
    },
    {
     "name": "stderr",
     "output_type": "stream",
     "text": [
      "Epoch 12/100: 100%|██████████| 282/282 [07:49<00:00,  1.66s/it]\n",
      "Evaluation: 100%|██████████| 121/121 [01:12<00:00,  1.68it/s]\n"
     ]
    },
    {
     "name": "stdout",
     "output_type": "stream",
     "text": [
      "Epoch 12/100.. Train loss: 0.440.. Val loss: 0.405.. Accuracy: 0.805..\n"
     ]
    },
    {
     "name": "stderr",
     "output_type": "stream",
     "text": [
      "Epoch 13/100: 100%|██████████| 282/282 [07:49<00:00,  1.66s/it]\n",
      "Evaluation: 100%|██████████| 121/121 [01:12<00:00,  1.68it/s]\n"
     ]
    },
    {
     "name": "stdout",
     "output_type": "stream",
     "text": [
      "Epoch 13/100.. Train loss: 0.419.. Val loss: 0.392.. Accuracy: 0.815..\n"
     ]
    },
    {
     "name": "stderr",
     "output_type": "stream",
     "text": [
      "Epoch 14/100: 100%|██████████| 282/282 [07:49<00:00,  1.67s/it]\n",
      "Evaluation: 100%|██████████| 121/121 [01:12<00:00,  1.68it/s]\n"
     ]
    },
    {
     "name": "stdout",
     "output_type": "stream",
     "text": [
      "Epoch 14/100.. Train loss: 0.395.. Val loss: 0.388.. Accuracy: 0.833..\n"
     ]
    },
    {
     "name": "stderr",
     "output_type": "stream",
     "text": [
      "Epoch 15/100: 100%|██████████| 282/282 [07:49<00:00,  1.66s/it]\n",
      "Evaluation: 100%|██████████| 121/121 [01:12<00:00,  1.67it/s]\n"
     ]
    },
    {
     "name": "stdout",
     "output_type": "stream",
     "text": [
      "Epoch 15/100.. Train loss: 0.368.. Val loss: 0.356.. Accuracy: 0.835..\n"
     ]
    },
    {
     "name": "stderr",
     "output_type": "stream",
     "text": [
      "Epoch 16/100: 100%|██████████| 282/282 [07:49<00:00,  1.66s/it]\n",
      "Evaluation: 100%|██████████| 121/121 [01:12<00:00,  1.68it/s]\n"
     ]
    },
    {
     "name": "stdout",
     "output_type": "stream",
     "text": [
      "Epoch 16/100.. Train loss: 0.345.. Val loss: 0.401.. Accuracy: 0.829..\n"
     ]
    },
    {
     "name": "stderr",
     "output_type": "stream",
     "text": [
      "Epoch 17/100: 100%|██████████| 282/282 [07:49<00:00,  1.67s/it]\n",
      "Evaluation: 100%|██████████| 121/121 [01:12<00:00,  1.68it/s]\n"
     ]
    },
    {
     "name": "stdout",
     "output_type": "stream",
     "text": [
      "Epoch 17/100.. Train loss: 0.315.. Val loss: 0.372.. Accuracy: 0.831..\n"
     ]
    },
    {
     "name": "stderr",
     "output_type": "stream",
     "text": [
      "Epoch 18/100: 100%|██████████| 282/282 [07:49<00:00,  1.66s/it]\n",
      "Evaluation: 100%|██████████| 121/121 [01:12<00:00,  1.67it/s]\n"
     ]
    },
    {
     "name": "stdout",
     "output_type": "stream",
     "text": [
      "Epoch 18/100.. Train loss: 0.293.. Val loss: 0.337.. Accuracy: 0.858..\n"
     ]
    },
    {
     "name": "stderr",
     "output_type": "stream",
     "text": [
      "Epoch 19/100: 100%|██████████| 282/282 [07:49<00:00,  1.67s/it]\n",
      "Evaluation: 100%|██████████| 121/121 [01:12<00:00,  1.68it/s]\n"
     ]
    },
    {
     "name": "stdout",
     "output_type": "stream",
     "text": [
      "Epoch 19/100.. Train loss: 0.276.. Val loss: 0.351.. Accuracy: 0.853..\n"
     ]
    },
    {
     "name": "stderr",
     "output_type": "stream",
     "text": [
      "Epoch 20/100: 100%|██████████| 282/282 [07:49<00:00,  1.67s/it]\n",
      "Evaluation: 100%|██████████| 121/121 [01:12<00:00,  1.68it/s]\n"
     ]
    },
    {
     "name": "stdout",
     "output_type": "stream",
     "text": [
      "Epoch 20/100.. Train loss: 0.253.. Val loss: 0.366.. Accuracy: 0.852..\n"
     ]
    },
    {
     "name": "stderr",
     "output_type": "stream",
     "text": [
      "Epoch 21/100: 100%|██████████| 282/282 [07:49<00:00,  1.66s/it]\n",
      "Evaluation: 100%|██████████| 121/121 [01:12<00:00,  1.68it/s]\n"
     ]
    },
    {
     "name": "stdout",
     "output_type": "stream",
     "text": [
      "Epoch 21/100.. Train loss: 0.242.. Val loss: 0.343.. Accuracy: 0.851..\n"
     ]
    },
    {
     "name": "stderr",
     "output_type": "stream",
     "text": [
      "Epoch 22/100: 100%|██████████| 282/282 [07:49<00:00,  1.67s/it]\n",
      "Evaluation: 100%|██████████| 121/121 [01:12<00:00,  1.68it/s]\n"
     ]
    },
    {
     "name": "stdout",
     "output_type": "stream",
     "text": [
      "Epoch 22/100.. Train loss: 0.223.. Val loss: 0.387.. Accuracy: 0.834..\n"
     ]
    },
    {
     "name": "stderr",
     "output_type": "stream",
     "text": [
      "Epoch 23/100: 100%|██████████| 282/282 [07:49<00:00,  1.67s/it]\n",
      "Evaluation: 100%|██████████| 121/121 [01:12<00:00,  1.68it/s]\n"
     ]
    },
    {
     "name": "stdout",
     "output_type": "stream",
     "text": [
      "Epoch 23/100.. Train loss: 0.220.. Val loss: 0.336.. Accuracy: 0.869..\n"
     ]
    },
    {
     "name": "stderr",
     "output_type": "stream",
     "text": [
      "Epoch 24/100: 100%|██████████| 282/282 [07:49<00:00,  1.67s/it]\n",
      "Evaluation: 100%|██████████| 121/121 [01:11<00:00,  1.68it/s]\n"
     ]
    },
    {
     "name": "stdout",
     "output_type": "stream",
     "text": [
      "Epoch 24/100.. Train loss: 0.203.. Val loss: 0.344.. Accuracy: 0.869..\n"
     ]
    },
    {
     "name": "stderr",
     "output_type": "stream",
     "text": [
      "Epoch 25/100: 100%|██████████| 282/282 [07:49<00:00,  1.66s/it]\n",
      "Evaluation: 100%|██████████| 121/121 [01:12<00:00,  1.67it/s]\n"
     ]
    },
    {
     "name": "stdout",
     "output_type": "stream",
     "text": [
      "Epoch 25/100.. Train loss: 0.192.. Val loss: 0.329.. Accuracy: 0.876..\n"
     ]
    },
    {
     "name": "stderr",
     "output_type": "stream",
     "text": [
      "Epoch 26/100: 100%|██████████| 282/282 [07:48<00:00,  1.66s/it]\n",
      "Evaluation: 100%|██████████| 121/121 [01:12<00:00,  1.68it/s]\n"
     ]
    },
    {
     "name": "stdout",
     "output_type": "stream",
     "text": [
      "Epoch 26/100.. Train loss: 0.187.. Val loss: 0.358.. Accuracy: 0.868..\n"
     ]
    },
    {
     "name": "stderr",
     "output_type": "stream",
     "text": [
      "Epoch 27/100: 100%|██████████| 282/282 [07:48<00:00,  1.66s/it]\n",
      "Evaluation: 100%|██████████| 121/121 [01:12<00:00,  1.68it/s]\n"
     ]
    },
    {
     "name": "stdout",
     "output_type": "stream",
     "text": [
      "Epoch 27/100.. Train loss: 0.182.. Val loss: 0.355.. Accuracy: 0.861..\n"
     ]
    },
    {
     "name": "stderr",
     "output_type": "stream",
     "text": [
      "Epoch 28/100: 100%|██████████| 282/282 [07:48<00:00,  1.66s/it]\n",
      "Evaluation: 100%|██████████| 121/121 [01:11<00:00,  1.68it/s]\n"
     ]
    },
    {
     "name": "stdout",
     "output_type": "stream",
     "text": [
      "Epoch 28/100.. Train loss: 0.170.. Val loss: 0.411.. Accuracy: 0.859..\n"
     ]
    },
    {
     "name": "stderr",
     "output_type": "stream",
     "text": [
      "Epoch 29/100: 100%|██████████| 282/282 [07:48<00:00,  1.66s/it]\n",
      "Evaluation: 100%|██████████| 121/121 [01:12<00:00,  1.68it/s]\n"
     ]
    },
    {
     "name": "stdout",
     "output_type": "stream",
     "text": [
      "Epoch 29/100.. Train loss: 0.160.. Val loss: 0.625.. Accuracy: 0.843..\n"
     ]
    },
    {
     "name": "stderr",
     "output_type": "stream",
     "text": [
      "Epoch 30/100: 100%|██████████| 282/282 [07:48<00:00,  1.66s/it]\n",
      "Evaluation: 100%|██████████| 121/121 [01:12<00:00,  1.68it/s]\n"
     ]
    },
    {
     "name": "stdout",
     "output_type": "stream",
     "text": [
      "Epoch 30/100.. Train loss: 0.149.. Val loss: 0.439.. Accuracy: 0.869..\n"
     ]
    },
    {
     "name": "stderr",
     "output_type": "stream",
     "text": [
      "Epoch 31/100: 100%|██████████| 282/282 [07:48<00:00,  1.66s/it]\n",
      "Evaluation: 100%|██████████| 121/121 [01:12<00:00,  1.68it/s]\n"
     ]
    },
    {
     "name": "stdout",
     "output_type": "stream",
     "text": [
      "Epoch 31/100.. Train loss: 0.143.. Val loss: 0.383.. Accuracy: 0.846..\n"
     ]
    },
    {
     "name": "stderr",
     "output_type": "stream",
     "text": [
      "Epoch 32/100: 100%|██████████| 282/282 [07:49<00:00,  1.66s/it]\n",
      "Evaluation: 100%|██████████| 121/121 [01:12<00:00,  1.68it/s]\n"
     ]
    },
    {
     "name": "stdout",
     "output_type": "stream",
     "text": [
      "Epoch 32/100.. Train loss: 0.129.. Val loss: 0.445.. Accuracy: 0.875..\n"
     ]
    },
    {
     "name": "stderr",
     "output_type": "stream",
     "text": [
      "Epoch 33/100: 100%|██████████| 282/282 [07:47<00:00,  1.66s/it]\n",
      "Evaluation: 100%|██████████| 121/121 [01:12<00:00,  1.68it/s]\n"
     ]
    },
    {
     "name": "stdout",
     "output_type": "stream",
     "text": [
      "Epoch 33/100.. Train loss: 0.119.. Val loss: 0.385.. Accuracy: 0.883..\n"
     ]
    },
    {
     "name": "stderr",
     "output_type": "stream",
     "text": [
      "Epoch 34/100: 100%|██████████| 282/282 [07:49<00:00,  1.66s/it]\n",
      "Evaluation: 100%|██████████| 121/121 [01:12<00:00,  1.68it/s]\n"
     ]
    },
    {
     "name": "stdout",
     "output_type": "stream",
     "text": [
      "Epoch 34/100.. Train loss: 0.114.. Val loss: 0.360.. Accuracy: 0.874..\n"
     ]
    },
    {
     "name": "stderr",
     "output_type": "stream",
     "text": [
      "Epoch 35/100: 100%|██████████| 282/282 [07:48<00:00,  1.66s/it]\n",
      "Evaluation: 100%|██████████| 121/121 [01:12<00:00,  1.68it/s]\n"
     ]
    }
   ],
   "source": [
    "from torch.optim.lr_scheduler import OneCycleLR\n",
    "from torch.optim import AdamW\n",
    "\n",
    "model = ISICNet()\n",
    "\n",
    "EPOCHS = 100\n",
    "STAGE_1_EPOCHS = 10\n",
    "\n",
    "no_improve = 0\n",
    "patience, best_loss = 10, float('inf')\n",
    "\n",
    "param_groups_1 = [\n",
    "    {\"params\": model.classifier.parameters(), \"lr\": 1e-2, \"weight_decay\": 1e-3},\n",
    "    {\"params\": model.meta_net.parameters(), \"lr\": 1e-2, \"weight_decay\": 1e-3},\n",
    "]\n",
    "\n",
    "optimizer = AdamW(param_groups_1)\n",
    "criterion = CrossEntropyLoss(weight=weights)\n",
    "scheduler = OneCycleLR(\n",
    "    optimizer,\n",
    "    max_lr=[1e-2, 1e-2],\n",
    "    epochs=STAGE_1_EPOCHS,                \n",
    "    steps_per_epoch=len(trainloader),\n",
    "    pct_start=0.25,\n",
    "    anneal_strategy='cos',\n",
    "    div_factor=25.0,\n",
    "    final_div_factor=1e4\n",
    ")\n",
    "\n",
    "model.to(device)\n",
    "\n",
    "torch.backends.cudnn.benchmark = True\n",
    "\n",
    "for epoch in range(0, STAGE_1_EPOCHS):\n",
    "    model.train()\n",
    "    running_loss = 0.0\n",
    "\n",
    "    for imgs, meta, labels in tqdm(trainloader, desc=f\"Epoch {epoch+1}/{EPOCHS}\"):\n",
    "        imgs, meta, labels = imgs.to(device), meta.to(device), labels.to(device)\n",
    "\n",
    "        optimizer.zero_grad()\n",
    "        logits = model(imgs, meta)\n",
    "        loss = criterion(logits, labels)\n",
    "\n",
    "        loss.backward()\n",
    "        optimizer.step()\n",
    "\n",
    "        running_loss += loss.item() * imgs.size(0)\n",
    "        scheduler.step()\n",
    "\n",
    "    val_loss, val_acc, _, _ = evaluate(model, valloader, criterion)\n",
    "    \n",
    "    if val_loss < best_loss:\n",
    "        best_loss = val_loss\n",
    "        no_improve = 0\n",
    "    else:\n",
    "        no_improve += 1\n",
    "        if no_improve == patience:\n",
    "            break\n",
    "\n",
    "    train_loss = running_loss / len(trainloader.dataset)\n",
    "\n",
    "    print(f\"Epoch {epoch+1}/{EPOCHS}.. \"\n",
    "          f\"Train loss: {train_loss:.3f}.. \"\n",
    "          f\"Val loss: {val_loss:.3f}.. \"\n",
    "          f\"Accuracy: {val_acc:.3f}..\")\n",
    "\n",
    "param_groups_2 = [\n",
    "    {\"params\": model.classifier.parameters(), \"lr\": 1e-3, \"weight_decay\": 1e-3},\n",
    "    {\"params\": model.meta_net.parameters(), \"lr\": 1e-3, \"weight_decay\": 1e-3},\n",
    "    {\"params\": model.resnet.layer4.parameters(), \"lr\": 5e-4, \"weight_decay\": 1e-3},\n",
    "]\n",
    "\n",
    "optimizer = AdamW(param_groups_2)\n",
    "scheduler = OneCycleLR(\n",
    "    optimizer,\n",
    "    max_lr=[1e-3, 1e-3, 5e-4],\n",
    "    epochs=EPOCHS - STAGE_1_EPOCHS,                \n",
    "    steps_per_epoch=len(trainloader),\n",
    "    pct_start=0.25,\n",
    "    anneal_strategy='cos',\n",
    "    div_factor=25.0,\n",
    "    final_div_factor=1e4\n",
    ")\n",
    "unfreeze_layers(model=model, layers=[\"layer4\"])\n",
    "\n",
    "for epoch in range(STAGE_1_EPOCHS, EPOCHS):\n",
    "    model.train()\n",
    "    running_loss = 0.0\n",
    "\n",
    "    for imgs, meta, labels in tqdm(trainloader, desc=f\"Epoch {epoch+1}/{EPOCHS}\"):\n",
    "        imgs, meta, labels = imgs.to(device), meta.to(device), labels.to(device)\n",
    "\n",
    "        optimizer.zero_grad()\n",
    "        logits = model(imgs, meta)\n",
    "        loss = criterion(logits, labels)\n",
    "\n",
    "        loss.backward()\n",
    "        optimizer.step()\n",
    "\n",
    "        running_loss += loss.item() * imgs.size(0)\n",
    "        scheduler.step()\n",
    "\n",
    "    val_loss, val_acc, _, _ = evaluate(model, valloader, criterion)\n",
    "    \n",
    "    if val_loss < best_loss:\n",
    "        best_loss = val_loss\n",
    "        no_improve = 0\n",
    "    else:\n",
    "        no_improve += 1\n",
    "        if no_improve == patience:\n",
    "            break\n",
    "\n",
    "    train_loss = running_loss / len(trainloader.dataset)\n",
    "\n",
    "    print(f\"Epoch {epoch+1}/{EPOCHS}.. \"\n",
    "          f\"Train loss: {train_loss:.3f}.. \"\n",
    "          f\"Val loss: {val_loss:.3f}.. \"\n",
    "          f\"Accuracy: {val_acc:.3f}..\")"
   ]
  },
  {
   "cell_type": "code",
   "execution_count": 27,
   "metadata": {
    "colab": {
     "base_uri": "https://localhost:8080/"
    },
    "execution": {
     "iopub.execute_input": "2025-08-12T20:40:22.436818Z",
     "iopub.status.busy": "2025-08-12T20:40:22.436285Z",
     "iopub.status.idle": "2025-08-12T20:41:34.551838Z",
     "shell.execute_reply": "2025-08-12T20:41:34.551019Z",
     "shell.execute_reply.started": "2025-08-12T20:40:22.436792Z"
    },
    "id": "khN2cnRbUF1I",
    "outputId": "9f11316c-fec2-4eb5-ad0f-bbe1871a573b",
    "trusted": true
   },
   "outputs": [
    {
     "name": "stderr",
     "output_type": "stream",
     "text": [
      "Evaluation: 100%|██████████| 121/121 [01:12<00:00,  1.68it/s]"
     ]
    },
    {
     "name": "stdout",
     "output_type": "stream",
     "text": [
      "Test loss: 0.350.. Accuracy: 0.881..\n"
     ]
    },
    {
     "name": "stderr",
     "output_type": "stream",
     "text": [
      "\n"
     ]
    }
   ],
   "source": [
    "test_loss, test_acc, test_preds, test_labels = evaluate(model, testloader, criterion)\n",
    "print(f\"Test loss: {test_loss:.3f}.. \"\n",
    "      f\"Accuracy: {test_acc:.3f}..\")"
   ]
  },
  {
   "cell_type": "code",
   "execution_count": 32,
   "metadata": {
    "execution": {
     "iopub.execute_input": "2025-08-12T20:45:04.836122Z",
     "iopub.status.busy": "2025-08-12T20:45:04.835766Z",
     "iopub.status.idle": "2025-08-12T20:45:04.997323Z",
     "shell.execute_reply": "2025-08-12T20:45:04.996663Z",
     "shell.execute_reply.started": "2025-08-12T20:45:04.836091Z"
    },
    "trusted": true
   },
   "outputs": [
    {
     "data": {
      "image/png": "[encoded data removed]",
      "text/plain": [
       "<Figure size 640x480 with 2 Axes>"
      ]
     },
     "metadata": {},
     "output_type": "display_data"
    }
   ],
   "source": [
    "from sklearn.metrics import confusion_matrix\n",
    "\n",
    "cm = confusion_matrix(test_labels, test_preds)\n",
    "\n",
    "import seaborn as sns\n",
    "import matplotlib.pyplot as plt\n",
    "\n",
    "sns.heatmap(cm, annot=True, fmt='d', cmap='Blues')\n",
    "plt.xlabel(\"Predicted\")\n",
    "plt.ylabel(\"True\")\n",
    "plt.show()"
   ]
  },
  {
   "cell_type": "code",
   "execution_count": 33,
   "metadata": {
    "execution": {
     "iopub.execute_input": "2025-08-12T20:46:20.300743Z",
     "iopub.status.busy": "2025-08-12T20:46:20.300164Z",
     "iopub.status.idle": "2025-08-12T20:46:20.314857Z",
     "shell.execute_reply": "2025-08-12T20:46:20.314136Z",
     "shell.execute_reply.started": "2025-08-12T20:46:20.300712Z"
    },
    "trusted": true
   },
   "outputs": [
    {
     "name": "stdout",
     "output_type": "stream",
     "text": [
      "              precision    recall  f1-score   support\n",
      "\n",
      "           0       0.86      0.86      0.86      1607\n",
      "           1       0.90      0.90      0.90      2251\n",
      "\n",
      "    accuracy                           0.88      3858\n",
      "   macro avg       0.88      0.88      0.88      3858\n",
      "weighted avg       0.88      0.88      0.88      3858\n",
      "\n"
     ]
    }
   ],
   "source": [
    "from sklearn.metrics import classification_report\n",
    "\n",
    "print(classification_report(test_labels, test_preds))"
   ]
  },
  {
   "cell_type": "code",
   "execution_count": 23,
   "metadata": {
    "execution": {
     "iopub.execute_input": "2025-08-12T20:14:54.889331Z",
     "iopub.status.busy": "2025-08-12T20:14:54.888670Z",
     "iopub.status.idle": "2025-08-12T20:14:55.056843Z",
     "shell.execute_reply": "2025-08-12T20:14:55.056047Z",
     "shell.execute_reply.started": "2025-08-12T20:14:54.889302Z"
    },
    "id": "j6gmm0Jjg2Cl",
    "trusted": true
   },
   "outputs": [],
   "source": [
    "torch.save(model.state_dict(), \"ham-net.pth\")"
   ]
  },
  {
   "cell_type": "code",
   "execution_count": null,
   "metadata": {
    "trusted": true
   },
   "outputs": [],
   "source": []
  },
  {
   "cell_type": "code",
   "execution_count": null,
   "metadata": {
    "trusted": true
   },
   "outputs": [],
   "source": []
  }
 ],
 "metadata": {
  "accelerator": "GPU",
  "colab": {
   "gpuType": "T4",
   "provenance": []
  },
  "kaggle": {
   "accelerator": "nvidiaTeslaT4",
   "dataSources": [
    {
     "datasetId": 8051289,
     "sourceId": 12737132,
     "sourceType": "datasetVersion"
    },
    {
     "datasetId": 8051325,
     "sourceId": 12737188,
     "sourceType": "datasetVersion"
    }
   ],
   "dockerImageVersionId": 31090,
   "isGpuEnabled": true,
   "isInternetEnabled": true,
   "language": "python",
   "sourceType": "notebook"
  },
  "kernelspec": {
   "display_name": "Python 3",
   "language": "python",
   "name": "python3"
  },
  "language_info": {
   "codemirror_mode": {
    "name": "ipython",
    "version": 3
   },
   "file_extension": ".py",
   "mimetype": "text/x-python",
   "name": "python",
   "nbconvert_exporter": "python",
   "pygments_lexer": "ipython3",
   "version": "3.11.13"
  }
 },
 "nbformat": 4,
 "nbformat_minor": 4
}
